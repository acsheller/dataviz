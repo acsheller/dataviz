{
 "cells": [
  {
   "cell_type": "markdown",
   "id": "8e07de9d-b042-4580-b474-03d7b9f9a8aa",
   "metadata": {},
   "source": [
    "# Preprocessing Notebook\n",
    "\n",
    "Define functions for data enhancements"
   ]
  },
  {
   "cell_type": "code",
   "execution_count": null,
   "id": "ba7de9fe-360b-48d8-971e-28e606388562",
   "metadata": {},
   "outputs": [],
   "source": [
    "import pandas as pd\n",
    "import united_states\n",
    "\n",
    "def convert_year(row):\n",
    "    year= row['date_str'].split('-')[0]\n",
    "    return int(year)\n",
    "\n",
    "def convert_month(row):\n",
    "    month= row['date_str'].split('-')[1]\n",
    "    return int(month)\n",
    "\n",
    "def convert_day(row):\n",
    "    day= row['date_str'].split('-')[2]\n",
    "    return int(day)\n",
    "\n",
    "def convert_year_month(row):\n",
    "    return float(row['year'] + row['month']/100)\n",
    "\n",
    "count = 0\n",
    "def assign_states(lat,lon):\n",
    "    global count\n",
    "    returnVal = us.from_coords(lat,lon)\n",
    "    count += 1\n",
    "    if not count %500:\n",
    "        print(\"Count at {}\".format(count))\n",
    "    if  not len(returnVal) > 0:\n",
    "        return \"NA\"\n",
    "    return returnVal[0].name\n",
    "   \n",
    "us = united_states.UnitedStates()\n",
    "\n",
    "\n",
    "# Need a states list to check in \n",
    "states_list =  [i.name for i in us.states]\n"
   ]
  },
  {
   "cell_type": "code",
   "execution_count": null,
   "id": "662cdbfc-d1da-4753-a9d3-c7f175392d9a",
   "metadata": {},
   "outputs": [],
   "source": [
    "# This was excluded from the checkin to Git because it was too large\n",
    "#w11 = pd.read_csv('data/weather-anomalies-1964-2013.csv')"
   ]
  },
  {
   "cell_type": "code",
   "execution_count": null,
   "id": "9dc8241f-6bb6-4b68-8f1c-393e23b1612c",
   "metadata": {},
   "outputs": [],
   "source": [
    "%%time\n",
    "w11['year']= w11.apply(lambda row: convert_year(row),axis =1)"
   ]
  },
  {
   "cell_type": "code",
   "execution_count": null,
   "id": "57ceff57-3c9f-4b74-b90f-4295193436fb",
   "metadata": {},
   "outputs": [],
   "source": [
    "%%time\n",
    "w11['month']= w11.apply(lambda row: convert_month(row),axis =1)"
   ]
  },
  {
   "cell_type": "code",
   "execution_count": null,
   "id": "63605af6-e63c-413f-b10a-0bc16792e582",
   "metadata": {},
   "outputs": [],
   "source": [
    "%%time\n",
    "w11['day']= w11.apply(lambda row: convert_day(row),axis =1)"
   ]
  },
  {
   "cell_type": "code",
   "execution_count": null,
   "id": "de27975d-cf14-478f-b1e5-e5b1a1a1382c",
   "metadata": {},
   "outputs": [],
   "source": [
    "%%time\n",
    "w11['year_month'] = w11.apply(lambda row: convert_year_month(row),axis=1)"
   ]
  },
  {
   "cell_type": "code",
   "execution_count": null,
   "id": "e3435cda-8481-49d9-9d88-2281516a688f",
   "metadata": {},
   "outputs": [],
   "source": [
    "len(w11.year_month.unique())"
   ]
  },
  {
   "cell_type": "code",
   "execution_count": null,
   "id": "178329fa-8a6e-4294-8b61-9eef04fc2c4d",
   "metadata": {},
   "outputs": [],
   "source": [
    "%%time\n",
    "## All 3Million Records have been updated with additional fields\n",
    "w11.to_csv(\"data/weather-anomalies-1964-2013-ymd.csv\",index=False)"
   ]
  },
  {
   "cell_type": "markdown",
   "id": "0845c8ee-d6b3-4787-9d6a-6753b8df76ff",
   "metadata": {},
   "source": [
    "## Start of doing a plot"
   ]
  },
  {
   "cell_type": "code",
   "execution_count": null,
   "id": "bf4b292d-7642-4db0-ab46-f087c84c02b8",
   "metadata": {},
   "outputs": [],
   "source": [
    "%%time\n",
    "\n",
    "results = w11.groupby('year')['max_temp'].mean()"
   ]
  },
  {
   "cell_type": "code",
   "execution_count": null,
   "id": "8dfeeb18-bbc8-4f09-a289-cce9960156d7",
   "metadata": {},
   "outputs": [],
   "source": [
    "xx = results.to_frame().reset_index()"
   ]
  },
  {
   "cell_type": "code",
   "execution_count": null,
   "id": "b0835fbd-760f-4076-9112-c1b44b7033fc",
   "metadata": {},
   "outputs": [],
   "source": [
    "import plotly.graph_objects as go\n",
    "\n",
    "# Create the line plot\n",
    "fig = go.Figure()\n",
    "\n",
    "# Add a line trace\n",
    "fig.add_trace(go.Scatter(x=xx.year, y=xx.max_temp , mode='lines+markers', name='Line Plot'))\n",
    "\n",
    "# Customize the layout (optional)\n",
    "fig.update_layout(title='Line Plot Example',\n",
    "                  xaxis_title='X-axis Title',\n",
    "                  yaxis_title='Y-axis Title')\n",
    "\n",
    "# Show the plot\n",
    "fig.show()"
   ]
  },
  {
   "cell_type": "code",
   "execution_count": null,
   "id": "1dd1ec3d-e9b2-4b5f-82e7-330dd06ef03a",
   "metadata": {},
   "outputs": [],
   "source": [
    "# This file is very handy as it can be quieried efficiently on year, month and day even.\n",
    "w11.to_csv(\"data/weather-anomalies-1964-2013-ymd.csv\",index=False)"
   ]
  },
  {
   "cell_type": "code",
   "execution_count": null,
   "id": "51a7816e-746c-4f27-a8ba-ab7df2534f3e",
   "metadata": {},
   "outputs": [],
   "source": [
    "w11s = w11.groupby('type', group_keys=False).apply(lambda x: x.sample(10000))\n",
    "display(\"Lenght of w1s is {}\".format(len(w11s)))"
   ]
  },
  {
   "cell_type": "code",
   "execution_count": null,
   "id": "9295b912-28cf-49f6-af2b-2d29b14bca66",
   "metadata": {},
   "outputs": [],
   "source": [
    "# Change names to something that can just be readily used by the module.\n",
    "w11s.rename(columns={'latitude': 'lat','longitude':'lon'}, inplace=True)"
   ]
  },
  {
   "cell_type": "code",
   "execution_count": null,
   "id": "3b01a1bd-8057-4863-ad86-68a8781590c8",
   "metadata": {},
   "outputs": [],
   "source": [
    "%%time\n",
    "w11s['state'] = w11s.apply(lambda row: assign_states(row.lat,row.lon),axis=1)"
   ]
  },
  {
   "cell_type": "code",
   "execution_count": null,
   "id": "27088ea4-9340-48b3-935f-1ce56c61a220",
   "metadata": {},
   "outputs": [],
   "source": [
    "w11s.to_csv(\"data/weather-anomalies-1964-2013-ymd-40k.csv\",index=False)"
   ]
  },
  {
   "cell_type": "code",
   "execution_count": null,
   "id": "eda2b669-f791-430c-9e99-33a572964902",
   "metadata": {},
   "outputs": [],
   "source": []
  },
  {
   "cell_type": "code",
   "execution_count": null,
   "id": "8a147750-f5a8-4ffc-bf9c-51c66df7cd3f",
   "metadata": {},
   "outputs": [],
   "source": [
    "import plotly.graph_objects as go\n",
    "import numpy as np\n",
    "\n",
    "# Sample data\n",
    "x_data = [1, 2, 3, 4, 5]\n",
    "y_data = [2, 3, 1, 4, 5]\n",
    "\n",
    "# Calculate trendline using numpy's polyfit function\n",
    "coefficients = np.polyfit(x_data, y_data, 1)\n",
    "trendline = np.polyval(coefficients, x_data)\n",
    "\n",
    "# Create a scatter plot\n",
    "scatter_plot = go.Scatter(x=x_data, y=y_data, mode='markers', name='Data')\n",
    "\n",
    "# Create a trendline plot\n",
    "trendline_plot = go.Scatter(x=x_data, y=trendline, mode='lines', name='Trendline')\n",
    "\n",
    "# Create the figure\n",
    "fig = go.Figure(data=[scatter_plot, trendline_plot])\n",
    "\n",
    "# Update layout if needed\n",
    "fig.update_layout(title='Scatter Plot with Trendline',\n",
    "                  xaxis_title='X-axis',\n",
    "                  yaxis_title='Y-axis')\n",
    "\n",
    "# Show the plot\n",
    "fig.show()"
   ]
  },
  {
   "cell_type": "code",
   "execution_count": null,
   "id": "f9e495b7-e88b-43f3-a3d6-a19f79fb8aea",
   "metadata": {},
   "outputs": [],
   "source": []
  },
  {
   "cell_type": "code",
   "execution_count": null,
   "id": "2067b876-7dd0-43dd-a5a8-a07d7c57afd7",
   "metadata": {},
   "outputs": [],
   "source": [
    "us = united_states.UnitedStates()\n",
    "states_list =  [i.name for i in us.states]"
   ]
  },
  {
   "cell_type": "code",
   "execution_count": null,
   "id": "c2ba9b4a-347b-496f-85ea-a4abaeb59ff2",
   "metadata": {},
   "outputs": [],
   "source": []
  }
 ],
 "metadata": {
  "kernelspec": {
   "display_name": "Python 3 (ipykernel)",
   "language": "python",
   "name": "python3"
  },
  "language_info": {
   "codemirror_mode": {
    "name": "ipython",
    "version": 3
   },
   "file_extension": ".py",
   "mimetype": "text/x-python",
   "name": "python",
   "nbconvert_exporter": "python",
   "pygments_lexer": "ipython3",
   "version": "3.10.12"
  }
 },
 "nbformat": 4,
 "nbformat_minor": 5
}
