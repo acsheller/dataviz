{
 "cells": [
  {
   "cell_type": "code",
   "execution_count": 1,
   "id": "cf703425-d63e-41bd-b6fe-1f27997b8619",
   "metadata": {},
   "outputs": [],
   "source": [
    "import pandas as pd\n",
    "w3 =  pd.read_csv('data/globallandtemperaturesbymajorcity.csv')\n",
    "#w3['latitude'] = pd.to_numeric(w3['latitude'])"
   ]
  },
  {
   "cell_type": "code",
   "execution_count": 2,
   "id": "962a4473-3465-4043-9bce-b5ecb2071282",
   "metadata": {},
   "outputs": [
    {
     "name": "stdout",
     "output_type": "stream",
     "text": [
      "<class 'pandas.core.frame.DataFrame'>\n",
      "RangeIndex: 239177 entries, 0 to 239176\n",
      "Data columns (total 7 columns):\n",
      " #   Column                         Non-Null Count   Dtype  \n",
      "---  ------                         --------------   -----  \n",
      " 0   dt                             239177 non-null  object \n",
      " 1   averagetemperature             228175 non-null  float64\n",
      " 2   averagetemperatureuncertainty  228175 non-null  float64\n",
      " 3   city                           239177 non-null  object \n",
      " 4   country                        239177 non-null  object \n",
      " 5   latitude                       239177 non-null  object \n",
      " 6   longitude                      239177 non-null  object \n",
      "dtypes: float64(2), object(5)\n",
      "memory usage: 12.8+ MB\n"
     ]
    }
   ],
   "source": [
    "w3.info()"
   ]
  },
  {
   "cell_type": "code",
   "execution_count": 3,
   "id": "3040b5a5-9396-41c8-b643-48c5c4e463e4",
   "metadata": {},
   "outputs": [
    {
     "name": "stdout",
     "output_type": "stream",
     "text": [
      "CPU times: user 3 µs, sys: 1e+03 ns, total: 4 µs\n",
      "Wall time: 7.63 µs\n"
     ]
    }
   ],
   "source": [
    "%%time\n",
    "# Need to conver the latitude to + and -\n",
    "# South and West is negative \n",
    "# North and East is positive\n",
    "def convert_lon(row):\n",
    "    if row.longitude[-1] == 'W':\n",
    "        return -1*float(row.longitude[:-1])\n",
    "    return float(row.longitude[:-1])\n",
    "\n",
    "def convert_lat(row):\n",
    "    if row.latitude[-1] == 'S':\n",
    "        return -1*float(row.latitude[:-1])\n",
    "    return float(row.latitude[:-1])\n",
    "\n",
    "def convert_year(row):\n",
    "    year= row['dt'].split('-')[0]\n",
    "    return int(year)\n",
    "\n",
    "def convert_month(row):\n",
    "    month= row['dt'].split('-')[1]\n",
    "    return int(month)\n",
    "\n",
    "def convert_day(row):\n",
    "    day= row['dt'].split('-')[2]\n",
    "    return int(day)\n",
    "\n",
    "\n"
   ]
  },
  {
   "cell_type": "code",
   "execution_count": null,
   "id": "3f3d067b-836a-48bd-bdeb-dc66894f193b",
   "metadata": {},
   "outputs": [],
   "source": []
  },
  {
   "cell_type": "code",
   "execution_count": 4,
   "id": "9fdaf81b-c74f-49fc-b709-a3166cce9e7a",
   "metadata": {},
   "outputs": [
    {
     "name": "stdout",
     "output_type": "stream",
     "text": [
      "CPU times: user 3.6 s, sys: 69.2 ms, total: 3.67 s\n",
      "Wall time: 3.66 s\n"
     ]
    }
   ],
   "source": [
    "%%time\n",
    "w3['year']= w3.apply(lambda row: convert_year(row),axis =1)\n",
    "w3['month']= w3.apply(lambda row: convert_month(row),axis =1)\n",
    "w3['day']= w3.apply(lambda row: convert_day(row),axis =1)"
   ]
  },
  {
   "cell_type": "code",
   "execution_count": 5,
   "id": "7cd08d50-7f38-43f4-b8cb-05bdaf88e112",
   "metadata": {},
   "outputs": [
    {
     "name": "stdout",
     "output_type": "stream",
     "text": [
      "CPU times: user 5.88 s, sys: 87.7 ms, total: 5.97 s\n",
      "Wall time: 5.97 s\n"
     ]
    }
   ],
   "source": [
    "%%time\n",
    "w3['lon'] = w3.apply(lambda row: convert_lon(row),axis=1)\n",
    "w3['lat'] = w3.apply(lambda row: convert_lat(row),axis=1)\n",
    "\n",
    "w3.drop(columns=['latitude','longitude'],inplace=True)"
   ]
  },
  {
   "cell_type": "code",
   "execution_count": 6,
   "id": "415693da-c82c-475e-bd4d-d9c6484fd19d",
   "metadata": {},
   "outputs": [],
   "source": [
    "w3.to_csv('data/globallandtemperaturesbymajorcity-ymd.csv',index=False)"
   ]
  },
  {
   "cell_type": "code",
   "execution_count": 7,
   "id": "d4d307b3-12ea-4901-b627-768de48103d2",
   "metadata": {},
   "outputs": [],
   "source": [
    "# Now take a sample so we aren't workwing with 239,000 observations.\n",
    "# Take a stratified sample \n",
    "w3 = w3.groupby('city', group_keys=False).apply(lambda x: x.sample(10))\n"
   ]
  },
  {
   "cell_type": "code",
   "execution_count": 8,
   "id": "b160c6f4-7140-4bf2-830d-c05e82022989",
   "metadata": {},
   "outputs": [
    {
     "name": "stdout",
     "output_type": "stream",
     "text": [
      "<class 'pandas.core.frame.DataFrame'>\n",
      "Index: 1000 entries, 1304 to 238412\n",
      "Data columns (total 10 columns):\n",
      " #   Column                         Non-Null Count  Dtype  \n",
      "---  ------                         --------------  -----  \n",
      " 0   dt                             1000 non-null   object \n",
      " 1   averagetemperature             942 non-null    float64\n",
      " 2   averagetemperatureuncertainty  942 non-null    float64\n",
      " 3   city                           1000 non-null   object \n",
      " 4   country                        1000 non-null   object \n",
      " 5   year                           1000 non-null   int64  \n",
      " 6   month                          1000 non-null   int64  \n",
      " 7   day                            1000 non-null   int64  \n",
      " 8   lon                            1000 non-null   float64\n",
      " 9   lat                            1000 non-null   float64\n",
      "dtypes: float64(4), int64(3), object(3)\n",
      "memory usage: 85.9+ KB\n"
     ]
    }
   ],
   "source": [
    "w3.info()"
   ]
  },
  {
   "cell_type": "code",
   "execution_count": 9,
   "id": "7eac93dc-25ce-4e4b-a20b-8c57891b5def",
   "metadata": {},
   "outputs": [
    {
     "data": {
      "text/plain": [
       "array(['Abidjan', 'Addis Abeba', 'Ahmadabad', 'Aleppo', 'Alexandria',\n",
       "       'Ankara', 'Baghdad', 'Bangalore', 'Bangkok', 'Belo Horizonte',\n",
       "       'Berlin', 'Bogotá', 'Bombay', 'Brasília', 'Cairo', 'Calcutta',\n",
       "       'Cali', 'Cape Town', 'Casablanca', 'Changchun', 'Chengdu',\n",
       "       'Chicago', 'Chongqing', 'Dakar', 'Dalian', 'Dar Es Salaam',\n",
       "       'Delhi', 'Dhaka', 'Durban', 'Faisalabad', 'Fortaleza', 'Gizeh',\n",
       "       'Guangzhou', 'Harare', 'Harbin', 'Ho Chi Minh City', 'Hyderabad',\n",
       "       'Ibadan', 'Istanbul', 'Izmir', 'Jaipur', 'Jakarta', 'Jiddah',\n",
       "       'Jinan', 'Kabul', 'Kano', 'Kanpur', 'Karachi', 'Kiev', 'Kinshasa',\n",
       "       'Lagos', 'Lahore', 'Lakhnau', 'Lima', 'London', 'Los Angeles',\n",
       "       'Luanda', 'Madras', 'Madrid', 'Manila', 'Mashhad', 'Melbourne',\n",
       "       'Mexico', 'Mogadishu', 'Montreal', 'Moscow', 'Nagoya', 'Nagpur',\n",
       "       'Nairobi', 'Nanjing', 'New Delhi', 'New York', 'Paris', 'Peking',\n",
       "       'Pune', 'Rangoon', 'Rio De Janeiro', 'Riyadh', 'Rome',\n",
       "       'Saint Petersburg', 'Salvador', 'Santiago', 'Santo Domingo',\n",
       "       'Seoul', 'Shanghai', 'Shenyang', 'Singapore', 'Surabaya', 'Surat',\n",
       "       'Sydney', 'São Paulo', 'Taipei', 'Taiyuan', 'Tangshan', 'Tianjin',\n",
       "       'Tokyo', 'Toronto', 'Umm Durman', 'Wuhan', 'Xian'], dtype=object)"
      ]
     },
     "execution_count": 9,
     "metadata": {},
     "output_type": "execute_result"
    }
   ],
   "source": [
    "w3.city.unique()"
   ]
  },
  {
   "cell_type": "code",
   "execution_count": null,
   "id": "5f03095e-451d-4cd2-abb4-3b680d057b76",
   "metadata": {},
   "outputs": [],
   "source": []
  }
 ],
 "metadata": {
  "kernelspec": {
   "display_name": "Python 3 (ipykernel)",
   "language": "python",
   "name": "python3"
  },
  "language_info": {
   "codemirror_mode": {
    "name": "ipython",
    "version": 3
   },
   "file_extension": ".py",
   "mimetype": "text/x-python",
   "name": "python",
   "nbconvert_exporter": "python",
   "pygments_lexer": "ipython3",
   "version": "3.10.9"
  }
 },
 "nbformat": 4,
 "nbformat_minor": 5
}
